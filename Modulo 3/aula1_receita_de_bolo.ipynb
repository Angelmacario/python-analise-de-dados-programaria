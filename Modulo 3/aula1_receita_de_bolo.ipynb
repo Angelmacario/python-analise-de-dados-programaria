{
 "cells": [
  {
   "cell_type": "code",
   "execution_count": null,
   "id": "3388dcbd",
   "metadata": {},
   "outputs": [
    {
     "name": "stdout",
     "output_type": "stream",
     "text": [
      "38.0\n"
     ]
    }
   ],
   "source": [
    "# DECLARANDO AS VARIÁVEIS COM OS PREÇOS DOS INGREDIENTES (em reais)\n",
    "preco_acucar = 4.5\n",
    "preco_cenoura = 5\n",
    "preco_fermento = 4\n",
    "preco_leite = 5.5\n",
    "preco_oleo = 7\n",
    "preco_ovos = 12\n",
    "\n",
    "# CRIANDO UMA FUNÇÃO QUE CALCULA O TOTAL DA COMPRA DE INGREDIENTES\n",
    "# Cada parâmetro indica se o ingrediente será comprado (True) ou não (False)\n",
    "def soma_ingredientes(tem_acucar, tem_cenoura, tem_fermento, tem_leite, tem_oleo, tem_ovos):\n",
    "    total_compra = 0  # Inicializa o total da compra com zero\n",
    "    \n",
    "    # Verifica se o ingrediente será comprado e soma seu preço ao total\n",
    "    if tem_acucar:\n",
    "        total_compra = total_compra + preco_acucar\n",
    "    if tem_cenoura:\n",
    "        total_compra = total_compra + preco_cenoura\n",
    "    if tem_fermento: \n",
    "        total_compra = total_compra + preco_fermento\n",
    "    if tem_leite:\n",
    "        total_compra = total_compra + preco_leite\n",
    "    if tem_oleo:\n",
    "        total_compra = total_compra + preco_oleo\n",
    "    if tem_ovos:\n",
    "        total_compra = total_compra + preco_ovos\n",
    "\n",
    "    return total_compra  # Retorna o valor total da compra\n",
    "\n",
    "# CHAMANDO A FUNÇÃO COM TODOS OS INGREDIENTES COMO 'True' (serão comprados)\n",
    "total = soma_ingredientes(True, True, True, True, True, True)\n",
    "\n",
    "# IMPRIME O VALOR TOTAL DA COMPRA\n",
    "print(total)\n",
    "\n",
    "if __name__ == \"__main__\"\n",
    "\n",
    "    terminal_tem_cenoura = sys.argv[1] == \"Sim\"\n",
    "    terminal_tem_cenoura = sys.argv[1] == \"Sim\"\n",
    "    "
   ]
  }
 ],
 "metadata": {
  "kernelspec": {
   "display_name": "base",
   "language": "python",
   "name": "python3"
  },
  "language_info": {
   "codemirror_mode": {
    "name": "ipython",
    "version": 3
   },
   "file_extension": ".py",
   "mimetype": "text/x-python",
   "name": "python",
   "nbconvert_exporter": "python",
   "pygments_lexer": "ipython3",
   "version": "3.12.4"
  }
 },
 "nbformat": 4,
 "nbformat_minor": 5
}
