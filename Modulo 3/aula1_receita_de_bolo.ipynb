{
 "cells": [
  {
   "cell_type": "code",
   "execution_count": 1,
   "id": "3388dcbd",
   "metadata": {},
   "outputs": [],
   "source": [
    "preco_acucar = 4.5\n",
    "preco_cenoura = 5\n",
    "preco_fermento = 4\n",
    "preco_leite = 5.5\n",
    "preco_oleo = 7\n",
    "preco_ovos = 12\n",
    "\n",
    "def soma_ingedientes(tem_acucar, tem_cenoura, tem_fermento, tem_leite, tem_oleo, tem_ovos):\n",
    "    total_compra = 0\n",
    "    if tem_acucar:\n",
    "        total_compra = total_compra + preco_acucar\n",
    "    if tem_cenoura:\n",
    "        total_compra = total_compra + preco_cenoura\n",
    "    if tem_fermento: \n",
    "        total_compra = total_compra + preco_fermento\n",
    "    if tem_leite:\n",
    "        total_compra = total_compra + preco_leite\n",
    "    if tem_oleo:\n",
    "        total_compra = total_compra + preco_oleo\n",
    "    if tem_ovos:\n",
    "        total_compra = total_compra + preco_ovos"
   ]
  },
  {
   "cell_type": "code",
   "execution_count": null,
   "id": "aa6caeb5",
   "metadata": {},
   "outputs": [],
   "source": []
  }
 ],
 "metadata": {
  "kernelspec": {
   "display_name": "base",
   "language": "python",
   "name": "python3"
  },
  "language_info": {
   "codemirror_mode": {
    "name": "ipython",
    "version": 3
   },
   "file_extension": ".py",
   "mimetype": "text/x-python",
   "name": "python",
   "nbconvert_exporter": "python",
   "pygments_lexer": "ipython3",
   "version": "3.12.4"
  }
 },
 "nbformat": 4,
 "nbformat_minor": 5
}
